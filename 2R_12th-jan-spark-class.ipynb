{
 "cells": [
  {
   "cell_type": "code",
   "execution_count": 0,
   "metadata": {
    "application/vnd.databricks.v1+cell": {
     "cellMetadata": {
      "byteLimit": 2048000,
      "rowLimit": 10000
     },
     "inputWidgets": {},
     "nuid": "ff379801-aeb6-481f-a8c4-dbb6a9a0f9f0",
     "showTitle": false,
     "tableResultSettingsMap": {},
     "title": ""
    }
   },
   "outputs": [],
   "source": [
    "from pyspark.sql import SparkSession\n",
    "from pyspark.sql.functions import col "
   ]
  },
  {
   "cell_type": "code",
   "execution_count": 0,
   "metadata": {
    "application/vnd.databricks.v1+cell": {
     "cellMetadata": {
      "byteLimit": 2048000,
      "rowLimit": 10000
     },
     "inputWidgets": {},
     "nuid": "57eb658c-a601-4a98-a8e9-d3a40e132b0b",
     "showTitle": false,
     "tableResultSettingsMap": {},
     "title": ""
    }
   },
   "outputs": [],
   "source": [
    "spark = SparkSession.builder.appName(\"this is my first program in spark\").getOrCreate()"
   ]
  },
  {
   "cell_type": "code",
   "execution_count": 0,
   "metadata": {
    "application/vnd.databricks.v1+cell": {
     "cellMetadata": {
      "byteLimit": 2048000,
      "rowLimit": 10000
     },
     "inputWidgets": {},
     "nuid": "745ceeef-8b7b-4467-85f2-a9fa695b17fb",
     "showTitle": false,
     "tableResultSettingsMap": {},
     "title": ""
    }
   },
   "outputs": [],
   "source": [
    "data = spark.read.csv(\"dbfs:/FileStore/phone_usage_india.csv\",header=True,inferSchema=True)"
   ]
  },
  {
   "cell_type": "code",
   "execution_count": 0,
   "metadata": {
    "application/vnd.databricks.v1+cell": {
     "cellMetadata": {
      "byteLimit": 2048000,
      "rowLimit": 10000
     },
     "inputWidgets": {},
     "nuid": "4ac4722b-c6a7-4413-a5e0-4730e81057e5",
     "showTitle": false,
     "tableResultSettingsMap": {},
     "title": ""
    }
   },
   "outputs": [
    {
     "output_type": "stream",
     "name": "stdout",
     "output_type": "stream",
     "text": [
      "root\n |-- User ID: string (nullable = true)\n |-- Age: integer (nullable = true)\n |-- Gender: string (nullable = true)\n |-- Location: string (nullable = true)\n |-- Phone Brand: string (nullable = true)\n |-- OS: string (nullable = true)\n |-- Screen Time (hrs/day): double (nullable = true)\n |-- Data Usage (GB/month): double (nullable = true)\n |-- Calls Duration (mins/day): double (nullable = true)\n |-- Number of Apps Installed: integer (nullable = true)\n |-- Social Media Time (hrs/day): double (nullable = true)\n |-- E-commerce Spend (INR/month): integer (nullable = true)\n |-- Streaming Time (hrs/day): double (nullable = true)\n |-- Gaming Time (hrs/day): double (nullable = true)\n |-- Monthly Recharge Cost (INR): integer (nullable = true)\n |-- Primary Use: string (nullable = true)\n\n"
     ]
    }
   ],
   "source": [
    "data.printSchema()"
   ]
  },
  {
   "cell_type": "code",
   "execution_count": 0,
   "metadata": {
    "application/vnd.databricks.v1+cell": {
     "cellMetadata": {
      "byteLimit": 2048000,
      "rowLimit": 10000
     },
     "inputWidgets": {},
     "nuid": "f478ec59-f671-4da1-bedf-39b4f743c701",
     "showTitle": false,
     "tableResultSettingsMap": {},
     "title": ""
    }
   },
   "outputs": [
    {
     "output_type": "stream",
     "name": "stdout",
     "output_type": "stream",
     "text": [
      "+-------+---+------+---------+-----------+-------+---------------------+---------------------+-------------------------+------------------------+---------------------------+----------------------------+------------------------+---------------------+---------------------------+-------------+\n|User ID|Age|Gender| Location|Phone Brand|     OS|Screen Time (hrs/day)|Data Usage (GB/month)|Calls Duration (mins/day)|Number of Apps Installed|Social Media Time (hrs/day)|E-commerce Spend (INR/month)|Streaming Time (hrs/day)|Gaming Time (hrs/day)|Monthly Recharge Cost (INR)|  Primary Use|\n+-------+---+------+---------+-----------+-------+---------------------+---------------------+-------------------------+------------------------+---------------------------+----------------------------+------------------------+---------------------+---------------------------+-------------+\n| U00001| 53|  Male|   Mumbai|       Vivo|Android|                  3.7|                 23.9|                     37.9|                     104|                        3.9|                         469|                     5.2|                  4.1|                        803|    Education|\n| U00002| 60| Other|    Delhi|     Realme|    iOS|                  9.2|                 28.1|                     13.7|                     169|                        2.8|                        4997|                     5.1|                  0.4|                       1526|       Gaming|\n| U00003| 37|Female|Ahmedabad|      Nokia|Android|                  4.5|                 12.3|                     66.8|                      96|                        3.0|                        2381|                     1.7|                  2.9|                       1619|Entertainment|\n| U00004| 32|  Male|     Pune|    Samsung|Android|                 11.0|                 25.6|                    156.2|                     146|                        5.2|                        1185|                     3.2|                  0.3|                       1560|Entertainment|\n| U00005| 16|  Male|   Mumbai|     Xiaomi|    iOS|                  2.2|                  2.5|                    236.2|                      86|                        5.5|                         106|                     3.4|                  2.3|                        742| Social Media|\n+-------+---+------+---------+-----------+-------+---------------------+---------------------+-------------------------+------------------------+---------------------------+----------------------------+------------------------+---------------------+---------------------------+-------------+\nonly showing top 5 rows\n\n"
     ]
    }
   ],
   "source": [
    "data.show(5)"
   ]
  },
  {
   "cell_type": "code",
   "execution_count": 0,
   "metadata": {
    "application/vnd.databricks.v1+cell": {
     "cellMetadata": {
      "byteLimit": 2048000,
      "rowLimit": 10000
     },
     "inputWidgets": {},
     "nuid": "941c1f5f-0c5d-44ac-aba7-18573fd0dd07",
     "showTitle": false,
     "tableResultSettingsMap": {},
     "title": ""
    }
   },
   "outputs": [
    {
     "output_type": "stream",
     "name": "stdout",
     "output_type": "stream",
     "text": [
      "Out[11]: [Row(User ID='U17682', Age=27, Gender='Other', Location='Mumbai', Phone Brand='Apple', OS='iOS', Screen Time (hrs/day)=7.2, Data Usage (GB/month)=36.6, Calls Duration (mins/day)=90.4, Number of Apps Installed=81, Social Media Time (hrs/day)=5.1, E-commerce Spend (INR/month)=4007, Streaming Time (hrs/day)=3.8, Gaming Time (hrs/day)=3.3, Monthly Recharge Cost (INR)=1380, Primary Use='Entertainment'),\n Row(User ID='U17683', Age=40, Gender='Female', Location='Chennai', Phone Brand='Oppo', OS='iOS', Screen Time (hrs/day)=9.5, Data Usage (GB/month)=12.9, Calls Duration (mins/day)=243.0, Number of Apps Installed=166, Social Media Time (hrs/day)=4.3, E-commerce Spend (INR/month)=8550, Streaming Time (hrs/day)=3.4, Gaming Time (hrs/day)=0.7, Monthly Recharge Cost (INR)=222, Primary Use='Education'),\n Row(User ID='U17684', Age=34, Gender='Female', Location='Ahmedabad', Phone Brand='Realme', OS='Android', Screen Time (hrs/day)=1.1, Data Usage (GB/month)=48.9, Calls Duration (mins/day)=74.7, Number of Apps Installed=70, Social Media Time (hrs/day)=5.3, E-commerce Spend (INR/month)=5516, Streaming Time (hrs/day)=0.7, Gaming Time (hrs/day)=4.0, Monthly Recharge Cost (INR)=1612, Primary Use='Entertainment'),\n Row(User ID='U17685', Age=22, Gender='Male', Location='Hyderabad', Phone Brand='Vivo', OS='Android', Screen Time (hrs/day)=8.8, Data Usage (GB/month)=25.6, Calls Duration (mins/day)=105.6, Number of Apps Installed=96, Social Media Time (hrs/day)=2.4, E-commerce Spend (INR/month)=3614, Streaming Time (hrs/day)=6.6, Gaming Time (hrs/day)=0.8, Monthly Recharge Cost (INR)=1528, Primary Use='Work'),\n Row(User ID='U17686', Age=43, Gender='Other', Location='Kolkata', Phone Brand='Oppo', OS='iOS', Screen Time (hrs/day)=5.6, Data Usage (GB/month)=22.5, Calls Duration (mins/day)=215.2, Number of Apps Installed=78, Social Media Time (hrs/day)=5.1, E-commerce Spend (INR/month)=5332, Streaming Time (hrs/day)=0.8, Gaming Time (hrs/day)=3.6, Monthly Recharge Cost (INR)=1098, Primary Use='Gaming')]"
     ]
    }
   ],
   "source": [
    "data.tail(5)"
   ]
  },
  {
   "cell_type": "code",
   "execution_count": 0,
   "metadata": {
    "application/vnd.databricks.v1+cell": {
     "cellMetadata": {
      "byteLimit": 2048000,
      "rowLimit": 10000
     },
     "inputWidgets": {},
     "nuid": "d98e2b8b-d051-45c2-ab70-2bfb23a51018",
     "showTitle": false,
     "tableResultSettingsMap": {},
     "title": ""
    }
   },
   "outputs": [
    {
     "output_type": "stream",
     "name": "stdout",
     "output_type": "stream",
     "text": [
      "Out[14]: 16"
     ]
    }
   ],
   "source": [
    "len(data.columns)"
   ]
  },
  {
   "cell_type": "code",
   "execution_count": 0,
   "metadata": {
    "application/vnd.databricks.v1+cell": {
     "cellMetadata": {
      "byteLimit": 2048000,
      "rowLimit": 10000
     },
     "inputWidgets": {},
     "nuid": "0cea61ad-cd0a-4261-b3b1-39732d7eb797",
     "showTitle": false,
     "tableResultSettingsMap": {},
     "title": ""
    }
   },
   "outputs": [
    {
     "output_type": "stream",
     "name": "stdout",
     "output_type": "stream",
     "text": [
      "Out[15]: 17686"
     ]
    }
   ],
   "source": [
    "data.count()"
   ]
  },
  {
   "cell_type": "code",
   "execution_count": 0,
   "metadata": {
    "application/vnd.databricks.v1+cell": {
     "cellMetadata": {
      "byteLimit": 2048000,
      "rowLimit": 10000
     },
     "inputWidgets": {},
     "nuid": "55415275-aa92-42e0-8f9a-649ccb4d96cc",
     "showTitle": false,
     "tableResultSettingsMap": {},
     "title": ""
    }
   },
   "outputs": [
    {
     "output_type": "stream",
     "name": "stdout",
     "output_type": "stream",
     "text": [
      "Out[17]: list"
     ]
    }
   ],
   "source": [
    "type(data.dtypes)"
   ]
  },
  {
   "cell_type": "code",
   "execution_count": 0,
   "metadata": {
    "application/vnd.databricks.v1+cell": {
     "cellMetadata": {
      "byteLimit": 2048000,
      "rowLimit": 10000
     },
     "inputWidgets": {},
     "nuid": "03fb5bf1-c402-4f8c-9e2d-3a501fa41a36",
     "showTitle": false,
     "tableResultSettingsMap": {},
     "title": ""
    }
   },
   "outputs": [
    {
     "output_type": "stream",
     "name": "stdout",
     "output_type": "stream",
     "text": [
      "User ID  == ==== string\nAge  == ==== int\nGender  == ==== string\nLocation  == ==== string\nPhone Brand  == ==== string\nOS  == ==== string\nScreen Time (hrs/day)  == ==== double\nData Usage (GB/month)  == ==== double\nCalls Duration (mins/day)  == ==== double\nNumber of Apps Installed  == ==== int\nSocial Media Time (hrs/day)  == ==== double\nE-commerce Spend (INR/month)  == ==== int\nStreaming Time (hrs/day)  == ==== double\nGaming Time (hrs/day)  == ==== double\nMonthly Recharge Cost (INR)  == ==== int\nPrimary Use  == ==== string\n"
     ]
    }
   ],
   "source": [
    "for columns , dtypes in data.dtypes:\n",
    "    print(f\"{columns}  == ==== {dtypes}\")"
   ]
  },
  {
   "cell_type": "code",
   "execution_count": 0,
   "metadata": {
    "application/vnd.databricks.v1+cell": {
     "cellMetadata": {
      "byteLimit": 2048000,
      "rowLimit": 10000
     },
     "inputWidgets": {},
     "nuid": "c1fd6573-17d2-4804-bf18-a1a341727a40",
     "showTitle": false,
     "tableResultSettingsMap": {},
     "title": ""
    }
   },
   "outputs": [
    {
     "output_type": "stream",
     "name": "stdout",
     "output_type": "stream",
     "text": [
      "+-------+-------+------------------+------+---------+-----------+-------+---------------------+---------------------+-------------------------+------------------------+---------------------------+----------------------------+------------------------+---------------------+---------------------------+-----------+\n|summary|User ID|               Age|Gender| Location|Phone Brand|     OS|Screen Time (hrs/day)|Data Usage (GB/month)|Calls Duration (mins/day)|Number of Apps Installed|Social Media Time (hrs/day)|E-commerce Spend (INR/month)|Streaming Time (hrs/day)|Gaming Time (hrs/day)|Monthly Recharge Cost (INR)|Primary Use|\n+-------+-------+------------------+------+---------+-----------+-------+---------------------+---------------------+-------------------------+------------------------+---------------------------+----------------------------+------------------------+---------------------+---------------------------+-----------+\n|  count|  17686|             17686| 17686|    17686|      17686|  17686|                17686|                17686|                    17686|                   17686|                      17686|                       17686|                   17686|                17686|                      17686|      17686|\n|   mean|   null| 37.58424742734366|  null|     null|       null|   null|    6.546375664367289|   25.411257491801486|        151.4058464322059|      104.58486938821667|         3.2523691055071704|            5075.70784801538|      4.2506163066832565|    2.490874137736062|         1042.7853669569151|       null|\n| stddev|   null|13.338251788617113|  null|     null|       null|   null|   3.1726772356159683|   14.122167498320856|        84.92335325749652|       55.21709697361205|         1.5902230927017802|           2871.604840767319|         2.1556832366318|   1.4460030819356924|          552.5020671416656|       null|\n|    min| U00001|                15|Female|Ahmedabad|      Apple|Android|                  1.0|                  1.0|                      5.0|                      10|                        0.5|                         100|                     0.5|                  0.0|                        100|  Education|\n|    max| U17686|                60| Other|     Pune|     Xiaomi|    iOS|                 12.0|                 50.0|                    300.0|                     200|                        6.0|                       10000|                     8.0|                  5.0|                       2000|       Work|\n+-------+-------+------------------+------+---------+-----------+-------+---------------------+---------------------+-------------------------+------------------------+---------------------------+----------------------------+------------------------+---------------------+---------------------------+-----------+\n\n"
     ]
    }
   ],
   "source": [
    "data.describe().show()"
   ]
  },
  {
   "cell_type": "code",
   "execution_count": 0,
   "metadata": {
    "application/vnd.databricks.v1+cell": {
     "cellMetadata": {
      "byteLimit": 2048000,
      "rowLimit": 10000
     },
     "inputWidgets": {},
     "nuid": "19452050-03f2-40ea-8a5a-73e4b3dd5d88",
     "showTitle": false,
     "tableResultSettingsMap": {},
     "title": ""
    }
   },
   "outputs": [
    {
     "output_type": "stream",
     "name": "stdout",
     "output_type": "stream",
     "text": [
      "+---+---------------------------+\n|Age|Monthly Recharge Cost (INR)|\n+---+---------------------------+\n| 53|                        803|\n| 60|                       1526|\n| 37|                       1619|\n| 32|                       1560|\n| 16|                        742|\n| 21|                       1749|\n| 57|                       1073|\n| 56|                       1136|\n| 46|                       1253|\n| 44|                        168|\n| 55|                       1098|\n| 41|                        151|\n| 53|                        240|\n| 35|                        972|\n| 33|                       1046|\n| 52|                       1769|\n| 46|                       1679|\n| 54|                       1360|\n| 50|                       1639|\n| 40|                       1224|\n+---+---------------------------+\nonly showing top 20 rows\n\n"
     ]
    }
   ],
   "source": [
    "age = data.select(\"Age\",\"Monthly Recharge Cost (INR)\").show()"
   ]
  },
  {
   "cell_type": "code",
   "execution_count": 0,
   "metadata": {
    "application/vnd.databricks.v1+cell": {
     "cellMetadata": {
      "byteLimit": 2048000,
      "rowLimit": 10000
     },
     "inputWidgets": {},
     "nuid": "547c5505-6e1d-4189-81c6-4c953b7e9801",
     "showTitle": false,
     "tableResultSettingsMap": {},
     "title": ""
    }
   },
   "outputs": [
    {
     "output_type": "stream",
     "name": "stdout",
     "output_type": "stream",
     "text": [
      "Out[25]: NoneType"
     ]
    }
   ],
   "source": [
    "type(age)"
   ]
  },
  {
   "cell_type": "code",
   "execution_count": 0,
   "metadata": {
    "application/vnd.databricks.v1+cell": {
     "cellMetadata": {
      "byteLimit": 2048000,
      "rowLimit": 10000
     },
     "inputWidgets": {},
     "nuid": "0dfe3bbb-dab3-4cf0-9e1f-72d64fe4d122",
     "showTitle": false,
     "tableResultSettingsMap": {},
     "title": ""
    }
   },
   "outputs": [],
   "source": [
    "age = data.select(\"Age\",\"Monthly Recharge Cost (INR)\")"
   ]
  },
  {
   "cell_type": "code",
   "execution_count": 0,
   "metadata": {
    "application/vnd.databricks.v1+cell": {
     "cellMetadata": {
      "byteLimit": 2048000,
      "rowLimit": 10000
     },
     "inputWidgets": {},
     "nuid": "402a6495-63b3-4ddb-b246-1af811e3d0af",
     "showTitle": false,
     "tableResultSettingsMap": {},
     "title": ""
    }
   },
   "outputs": [
    {
     "output_type": "stream",
     "name": "stdout",
     "output_type": "stream",
     "text": [
      "+-------+------------------+---------------------------+\n|summary|               Age|Monthly Recharge Cost (INR)|\n+-------+------------------+---------------------------+\n|  count|             17686|                      17686|\n|   mean| 37.58424742734366|         1042.7853669569151|\n| stddev|13.338251788617113|          552.5020671416656|\n|    min|                15|                        100|\n|    max|                60|                       2000|\n+-------+------------------+---------------------------+\n\n"
     ]
    }
   ],
   "source": [
    "age.describe().show()"
   ]
  },
  {
   "cell_type": "code",
   "execution_count": 0,
   "metadata": {
    "application/vnd.databricks.v1+cell": {
     "cellMetadata": {
      "byteLimit": 2048000,
      "rowLimit": 10000
     },
     "inputWidgets": {},
     "nuid": "11ede5b0-ccf3-4229-b5e9-bd3231837d82",
     "showTitle": false,
     "tableResultSettingsMap": {},
     "title": ""
    }
   },
   "outputs": [
    {
     "output_type": "stream",
     "name": "stdout",
     "output_type": "stream",
     "text": [
      "+-------+---+------+---------+-----------+-------+---------------------+---------------------+-------------------------+------------------------+---------------------------+----------------------------+------------------------+---------------------+---------------------------+-------------+\n|User ID|Age|Gender| Location|Phone Brand|     OS|Screen Time (hrs/day)|Data Usage (GB/month)|Calls Duration (mins/day)|Number of Apps Installed|Social Media Time (hrs/day)|E-commerce Spend (INR/month)|Streaming Time (hrs/day)|Gaming Time (hrs/day)|Monthly Recharge Cost (INR)|  Primary Use|\n+-------+---+------+---------+-----------+-------+---------------------+---------------------+-------------------------+------------------------+---------------------------+----------------------------+------------------------+---------------------+---------------------------+-------------+\n| U00005| 16|  Male|   Mumbai|     Xiaomi|    iOS|                  2.2|                  2.5|                    236.2|                      86|                        5.5|                         106|                     3.4|                  2.3|                        742| Social Media|\n| U00024| 16|Female|Hyderabad|       Vivo|Android|                  1.4|                 25.5|                    222.0|                     141|                        1.6|                        1119|                     2.8|                  0.4|                       1118|       Gaming|\n| U00027| 15|  Male|    Delhi|       Vivo|Android|                  9.2|                 42.7|                    230.9|                     180|                        0.5|                        4611|                     1.0|                  2.5|                        210|       Gaming|\n| U00040| 19|  Male|  Kolkata|      Apple|    iOS|                  5.5|                  2.9|                    212.5|                     129|                        5.6|                        8514|                     7.9|                  0.8|                        647|    Education|\n| U00048| 19|  Male|Bangalore|     Realme|    iOS|                  3.1|                 24.8|                     82.1|                      75|                        3.9|                        1396|                     2.0|                  1.6|                       1245| Social Media|\n| U00050| 17| Other|  Lucknow|      Apple|    iOS|                  4.7|                 30.4|                    157.7|                     187|                        2.6|                        9189|                     4.3|                  4.9|                        801|Entertainment|\n| U00058| 16|Female|     Pune|      Nokia|    iOS|                  9.0|                  7.1|                    142.9|                     164|                        4.9|                        6088|                     2.1|                  1.9|                        686|         Work|\n| U00070| 18|  Male|    Delhi|       Oppo|    iOS|                  5.3|                 10.4|                    257.0|                     116|                        2.3|                        4368|                     7.6|                  4.2|                       1359|       Gaming|\n| U00078| 19| Other|  Kolkata|   Motorola|    iOS|                  6.0|                 42.2|                    193.0|                     101|                        3.1|                        4606|                     2.2|                  3.9|                        705|Entertainment|\n| U00097| 17| Other|Hyderabad|   Motorola|Android|                 11.8|                 35.2|                    111.2|                     140|                        0.7|                         856|                     7.0|                  2.0|                       1474|Entertainment|\n| U00103| 15| Other|   Mumbai|     Realme|    iOS|                 10.5|                 39.3|                     77.1|                     137|                        2.2|                        8230|                     3.1|                  3.1|                        687|         Work|\n| U00115| 15| Other|     Pune|       Oppo|    iOS|                  8.5|                 18.6|                    118.8|                      30|                        5.8|                        7615|                     6.8|                  2.5|                        448|    Education|\n| U00118| 15| Other|   Jaipur|      Nokia|Android|                  8.9|                 13.9|                     99.2|                      51|                        5.4|                        7174|                     0.7|                  1.7|                       1837|    Education|\n| U00119| 19|Female|  Chennai|   Motorola|    iOS|                  7.2|                 16.0|                    163.5|                     191|                        1.9|                        6130|                     4.8|                  1.8|                       1202|       Gaming|\n| U00135| 18| Other|  Lucknow|      Apple|Android|                  3.7|                 40.8|                    226.0|                     167|                        0.8|                        4554|                     0.9|                  4.2|                        411| Social Media|\n| U00140| 19|  Male|  Lucknow|       Vivo|Android|                  4.1|                 14.3|                    134.6|                     193|                        4.9|                         977|                     6.2|                  0.2|                        512| Social Media|\n| U00147| 18|  Male|Hyderabad|      Apple|Android|                  6.0|                 16.7|                    201.8|                      43|                        2.9|                        4640|                     5.2|                  4.6|                       1497|Entertainment|\n| U00151| 16| Other|  Chennai|    Samsung|    iOS|                  7.9|                  6.8|                     69.8|                      38|                        2.8|                        5468|                     7.7|                  4.2|                       1304|Entertainment|\n| U00158| 16| Other|   Jaipur|   Motorola|    iOS|                 11.5|                 41.2|                    274.4|                     122|                        4.8|                         206|                     3.1|                  1.2|                       1935|    Education|\n| U00174| 19| Other|   Mumbai|     Xiaomi|Android|                 11.7|                  6.2|                     81.7|                      20|                        3.3|                        3667|                     6.1|                  4.2|                        722| Social Media|\n+-------+---+------+---------+-----------+-------+---------------------+---------------------+-------------------------+------------------------+---------------------------+----------------------------+------------------------+---------------------+---------------------------+-------------+\nonly showing top 20 rows\n\n"
     ]
    }
   ],
   "source": [
    "data.filter(col(\"Age\")<20).show()"
   ]
  },
  {
   "cell_type": "code",
   "execution_count": 0,
   "metadata": {
    "application/vnd.databricks.v1+cell": {
     "cellMetadata": {
      "byteLimit": 2048000,
      "rowLimit": 10000
     },
     "inputWidgets": {},
     "nuid": "3d2045e9-22bb-4179-94b3-d84b8d6b472d",
     "showTitle": false,
     "tableResultSettingsMap": {},
     "title": ""
    }
   },
   "outputs": [
    {
     "output_type": "stream",
     "name": "stdout",
     "output_type": "stream",
     "text": [
      "+---+---------------------+---------------------+-------------------------+\n|Age|Screen Time (hrs/day)|Data Usage (GB/month)|Calls Duration (mins/day)|\n+---+---------------------+---------------------+-------------------------+\n| 16|                  2.2|                  2.5|                    236.2|\n| 16|                  1.4|                 25.5|                    222.0|\n| 15|                  9.2|                 42.7|                    230.9|\n| 19|                  5.5|                  2.9|                    212.5|\n| 19|                  3.1|                 24.8|                     82.1|\n| 17|                  4.7|                 30.4|                    157.7|\n| 16|                  9.0|                  7.1|                    142.9|\n| 18|                  5.3|                 10.4|                    257.0|\n| 19|                  6.0|                 42.2|                    193.0|\n| 17|                 11.8|                 35.2|                    111.2|\n| 15|                 10.5|                 39.3|                     77.1|\n| 15|                  8.5|                 18.6|                    118.8|\n| 15|                  8.9|                 13.9|                     99.2|\n| 19|                  7.2|                 16.0|                    163.5|\n| 18|                  3.7|                 40.8|                    226.0|\n| 19|                  4.1|                 14.3|                    134.6|\n| 18|                  6.0|                 16.7|                    201.8|\n| 16|                  7.9|                  6.8|                     69.8|\n| 16|                 11.5|                 41.2|                    274.4|\n| 19|                 11.7|                  6.2|                     81.7|\n+---+---------------------+---------------------+-------------------------+\nonly showing top 20 rows\n\n"
     ]
    }
   ],
   "source": [
    "data.filter(col(\"Age\")<20).select( \"Age\", \"Screen Time (hrs/day)\",\"Data Usage (GB/month)\",\"Calls Duration (mins/day)\").show()"
   ]
  },
  {
   "cell_type": "code",
   "execution_count": 0,
   "metadata": {
    "application/vnd.databricks.v1+cell": {
     "cellMetadata": {
      "byteLimit": 2048000,
      "rowLimit": 10000
     },
     "inputWidgets": {},
     "nuid": "86a4c815-ce83-472b-9d94-e9bffb28f5ca",
     "showTitle": false,
     "tableResultSettingsMap": {},
     "title": ""
    }
   },
   "outputs": [
    {
     "output_type": "stream",
     "name": "stdout",
     "output_type": "stream",
     "text": [
      "+-------+------------------+---------------------+---------------------+-------------------------+\n|summary|               Age|Screen Time (hrs/day)|Data Usage (GB/month)|Calls Duration (mins/day)|\n+-------+------------------+---------------------+---------------------+-------------------------+\n|  count|              1941|                 1941|                 1941|                     1941|\n|   mean|17.001545595054097|    6.544204018547137|   25.379855744461615|        153.7225141679548|\n| stddev| 1.438605310281639|    3.156786772889325|   13.957482609837697|        84.20230133168563|\n|    min|                15|                  1.0|                  1.0|                      5.2|\n|    max|                19|                 12.0|                 50.0|                    299.9|\n+-------+------------------+---------------------+---------------------+-------------------------+\n\n"
     ]
    }
   ],
   "source": [
    "data.filter(col(\"Age\")<20).select( \"Age\", \"Screen Time (hrs/day)\",\"Data Usage (GB/month)\",\"Calls Duration (mins/day)\").describe().show()"
   ]
  },
  {
   "cell_type": "code",
   "execution_count": 0,
   "metadata": {
    "application/vnd.databricks.v1+cell": {
     "cellMetadata": {
      "byteLimit": 2048000,
      "rowLimit": 10000
     },
     "inputWidgets": {},
     "nuid": "bef8ab79-aa2f-460d-9452-3f3ca2c96bf5",
     "showTitle": false,
     "tableResultSettingsMap": {},
     "title": ""
    }
   },
   "outputs": [],
   "source": [
    "data.createOrReplaceTempView(\"phone_use_IND\")"
   ]
  },
  {
   "cell_type": "code",
   "execution_count": 0,
   "metadata": {
    "application/vnd.databricks.v1+cell": {
     "cellMetadata": {
      "byteLimit": 2048000,
      "rowLimit": 10000
     },
     "inputWidgets": {},
     "nuid": "23aae2ac-0719-414d-879a-510824a58381",
     "showTitle": false,
     "tableResultSettingsMap": {},
     "title": ""
    }
   },
   "outputs": [
    {
     "output_type": "stream",
     "name": "stdout",
     "output_type": "stream",
     "text": [
      "+-------+---+------+---------+------------+-------+---------------------+---------------------+-------------------------+------------------------+---------------------------+----------------------------+------------------------+---------------------+---------------------------+-------------+\n|User ID|Age|Gender| Location| Phone Brand|     OS|Screen Time (hrs/day)|Data Usage (GB/month)|Calls Duration (mins/day)|Number of Apps Installed|Social Media Time (hrs/day)|E-commerce Spend (INR/month)|Streaming Time (hrs/day)|Gaming Time (hrs/day)|Monthly Recharge Cost (INR)|  Primary Use|\n+-------+---+------+---------+------------+-------+---------------------+---------------------+-------------------------+------------------------+---------------------------+----------------------------+------------------------+---------------------+---------------------------+-------------+\n| U00001| 53|  Male|   Mumbai|        Vivo|Android|                  3.7|                 23.9|                     37.9|                     104|                        3.9|                         469|                     5.2|                  4.1|                        803|    Education|\n| U00002| 60| Other|    Delhi|      Realme|    iOS|                  9.2|                 28.1|                     13.7|                     169|                        2.8|                        4997|                     5.1|                  0.4|                       1526|       Gaming|\n| U00003| 37|Female|Ahmedabad|       Nokia|Android|                  4.5|                 12.3|                     66.8|                      96|                        3.0|                        2381|                     1.7|                  2.9|                       1619|Entertainment|\n| U00004| 32|  Male|     Pune|     Samsung|Android|                 11.0|                 25.6|                    156.2|                     146|                        5.2|                        1185|                     3.2|                  0.3|                       1560|Entertainment|\n| U00005| 16|  Male|   Mumbai|      Xiaomi|    iOS|                  2.2|                  2.5|                    236.2|                      86|                        5.5|                         106|                     3.4|                  2.3|                        742| Social Media|\n| U00006| 21|  Male|   Jaipur|        Oppo|    iOS|                  5.4|                 10.6|                    210.6|                      25|                        4.2|                        6285|                     0.6|                  4.8|                       1749|Entertainment|\n| U00007| 57|Female|  Lucknow|       Apple|    iOS|                  6.0|                 35.2|                    154.5|                     123|                        0.8|                        2653|                     2.9|                  2.3|                       1073| Social Media|\n| U00008| 56| Other|  Kolkata|      Realme|    iOS|                  3.1|                 43.5|                    125.3|                     188|                        2.3|                        9767|                     5.2|                  5.0|                       1136|Entertainment|\n| U00009| 46|Female|  Kolkata|        Oppo|Android|                  5.3|                 46.4|                     21.3|                     194|                        3.7|                        2870|                     6.1|                  2.8|                       1253|Entertainment|\n| U00010| 44| Other|  Kolkata|       Apple|    iOS|                  9.9|                 10.6|                    180.2|                      84|                        4.8|                        9193|                     7.6|                  0.4|                        168|    Education|\n| U00011| 55| Other|  Lucknow|       Nokia|Android|                  1.6|                 23.7|                    192.0|                      27|                        3.1|                        9330|                     1.2|                  2.3|                       1098|         Work|\n| U00012| 41|Female|    Delhi|        Oppo|Android|                  7.5|                 23.5|                     84.9|                     187|                        0.9|                         643|                     3.5|                  2.7|                        151| Social Media|\n| U00013| 53|  Male|Bangalore|      Realme|    iOS|                 10.5|                  1.4|                     33.7|                     137|                        4.5|                        7854|                     7.2|                  1.4|                        240|    Education|\n| U00014| 35|  Male|   Jaipur|      Realme|Android|                 10.3|                 32.4|                    247.1|                     124|                        5.2|                        3347|                     3.8|                  4.5|                        972| Social Media|\n| U00015| 33|Female|   Jaipur|     Samsung|    iOS|                  1.7|                 33.2|                    208.8|                     121|                        3.0|                        3185|                     4.2|                  0.5|                       1046|Entertainment|\n| U00016| 52|  Male|Bangalore|Google Pixel|Android|                  5.1|                 28.5|                    169.2|                     161|                        4.6|                        6175|                     4.4|                  4.3|                       1769|         Work|\n| U00017| 46| Other|   Mumbai|       Apple|Android|                  3.1|                 23.6|                    153.9|                     183|                        2.5|                        6242|                     6.2|                  0.4|                       1679|    Education|\n| U00018| 54|  Male|  Kolkata|       Apple|Android|                 11.6|                 12.6|                    210.4|                      62|                        4.9|                        4642|                     0.9|                  4.1|                       1360|Entertainment|\n| U00019| 50|Female|  Chennai|Google Pixel|Android|                  5.3|                  5.2|                    235.6|                     188|                        4.6|                        1120|                     1.0|                  0.8|                       1639|         Work|\n| U00020| 40| Other|Hyderabad|    Motorola|    iOS|                  9.0|                 38.9|                    289.6|                      62|                        2.4|                        8012|                     7.7|                  2.0|                       1224|         Work|\n+-------+---+------+---------+------------+-------+---------------------+---------------------+-------------------------+------------------------+---------------------------+----------------------------+------------------------+---------------------+---------------------------+-------------+\nonly showing top 20 rows\n\n"
     ]
    }
   ],
   "source": [
    "spark.sql(\"select * from phone_use_IND\").show()"
   ]
  },
  {
   "cell_type": "code",
   "execution_count": 0,
   "metadata": {
    "application/vnd.databricks.v1+cell": {
     "cellMetadata": {
      "byteLimit": 2048000,
      "rowLimit": 10000
     },
     "inputWidgets": {},
     "nuid": "f3e11729-a2d5-4e2b-8532-c9ae39aed910",
     "showTitle": false,
     "tableResultSettingsMap": {},
     "title": ""
    }
   },
   "outputs": [
    {
     "output_type": "stream",
     "name": "stdout",
     "output_type": "stream",
     "text": [
      "+---+---------+\n|Age| Location|\n+---+---------+\n| 53|   Mumbai|\n| 60|    Delhi|\n| 37|Ahmedabad|\n| 32|     Pune|\n| 21|   Jaipur|\n| 57|  Lucknow|\n| 56|  Kolkata|\n| 46|  Kolkata|\n| 44|  Kolkata|\n| 55|  Lucknow|\n| 41|    Delhi|\n| 53|Bangalore|\n| 35|   Jaipur|\n| 33|   Jaipur|\n| 52|Bangalore|\n| 46|   Mumbai|\n| 54|  Kolkata|\n| 50|  Chennai|\n| 40|Hyderabad|\n| 60|     Pune|\n+---+---------+\nonly showing top 20 rows\n\n"
     ]
    }
   ],
   "source": [
    "spark.sql(\"select Age ,Location  from phone_use_IND where Age >20\").show()"
   ]
  },
  {
   "cell_type": "code",
   "execution_count": 0,
   "metadata": {
    "application/vnd.databricks.v1+cell": {
     "cellMetadata": {},
     "inputWidgets": {},
     "nuid": "3fdc2152-e915-4411-a545-f08138160352",
     "showTitle": false,
     "tableResultSettingsMap": {},
     "title": ""
    }
   },
   "outputs": [],
   "source": []
  }
 ],
 "metadata": {
  "application/vnd.databricks.v1+notebook": {
   "computePreferences": null,
   "dashboards": [],
   "environmentMetadata": {
    "base_environment": "",
    "client": "1"
   },
   "language": "python",
   "notebookMetadata": {
    "pythonIndentUnit": 4
   },
   "notebookName": "12th jan spark class",
   "widgets": {}
  }
 },
 "nbformat": 4,
 "nbformat_minor": 0
}
